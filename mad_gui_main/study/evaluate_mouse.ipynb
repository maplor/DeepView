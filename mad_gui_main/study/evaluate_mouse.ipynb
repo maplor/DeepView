{
 "cells": [
  {
   "cell_type": "code",
   "execution_count": 1,
   "id": "53dc1f2d-8888-460c-a7fd-4b37ffb246f7",
   "metadata": {},
   "outputs": [],
   "source": [
    "import pickle\n",
    "\n",
    "import mouse\n",
    "import keyboard\n",
    "from datetime import datetime, timedelta"
   ]
  },
  {
   "cell_type": "code",
   "execution_count": 2,
   "id": "fe451911-0f8e-4954-8e06-7af4e6bd01bf",
   "metadata": {},
   "outputs": [],
   "source": [
    "with open(\"test_mouse_events.pkl\", \"rb\") as f:\n",
    "    mouse_events = pickle.load(f)\n",
    "    \n",
    "with open(\"test_window_positions.pkl\", \"rb\") as f:\n",
    "    window_positions = pickle.load(f)"
   ]
  },
  {
   "cell_type": "code",
   "execution_count": 3,
   "id": "0428046f-5b87-4f0b-acb9-7182353bc8f2",
   "metadata": {},
   "outputs": [
    {
     "name": "stdout",
     "output_type": "stream",
     "text": [
      "46 MoveEvent(x=532, y=296, time=1634670604.765104)\n",
      "115 MoveEvent(x=452, y=566, time=1634670606.8378081)\n",
      "199 MoveEvent(x=228, y=344, time=1634670608.1869001)\n",
      "302 MoveEvent(x=263, y=564, time=1634670610.0146332)\n",
      "383 MoveEvent(x=226, y=453, time=1634670611.7071629)\n",
      "435 MoveEvent(x=467, y=320, time=1634670612.52074)\n",
      "514 MoveEvent(x=936, y=698, time=1634670615.2785466)\n",
      "565 MoveEvent(x=1362, y=187, time=1634670616.210597)\n",
      "1686 MoveEvent(x=1884, y=24, time=1634670633.2269738)\n"
     ]
    }
   ],
   "source": [
    "x = []\n",
    "y = []\n",
    "durations = []\n",
    "for n, event in enumerate(mouse_events[1:]):\n",
    "    if isinstance(event, mouse._mouse_event.MoveEvent):\n",
    "        \n",
    "        previous_event = mouse_events[n]\n",
    "        start_time = datetime.fromtimestamp(previous_event.time)\n",
    "        end_time = datetime.fromtimestamp(event.time)\n",
    "        time_delta = end_time - start_time\n",
    "        if time_delta == timedelta(0):\n",
    "            continue\n",
    "        try:\n",
    "            pos = (previous_event.x, previous_event.y)\n",
    "            x.append(previous_event.x)\n",
    "            y.append(previous_event.y)\n",
    "            durations.append(time_delta)\n",
    "        except:\n",
    "            print(n, event)\n",
    "        #print(time_delta, pos)"
   ]
  },
  {
   "cell_type": "code",
   "execution_count": 4,
   "id": "854a9c65-0096-4ac5-96da-a4b8b04932fe",
   "metadata": {},
   "outputs": [
    {
     "data": {
      "text/plain": [
       "<matplotlib.collections.PathCollection at 0x1f69d3b81c8>"
      ]
     },
     "execution_count": 4,
     "metadata": {},
     "output_type": "execute_result"
    },
    {
     "data": {
      "image/png": "[encoded data removed]",
      "text/plain": [
       "<Figure size 432x288 with 1 Axes>"
      ]
     },
     "metadata": {
      "needs_background": "light"
     },
     "output_type": "display_data"
    }
   ],
   "source": [
    "import matplotlib.pyplot as plt\n",
    "plt.scatter(x, y)"
   ]
  },
  {
   "cell_type": "raw",
   "id": "93251dfc-230a-4cf2-bafd-7a7e818e04f8",
   "metadata": {},
   "source": [
    "import seaborn as sns\n",
    "import pandas as pd"
   ]
  },
  {
   "cell_type": "raw",
   "id": "ef54e778-7d81-49fc-aa1c-8e3ba8625f32",
   "metadata": {},
   "source": [
    "pos = [(x_pos, y_pos) for x_pos, y_pos in zip(x, y)]\n",
    "df = pd.DataFrame(data=[pos]).T\n",
    "sns.heatmap(df)"
   ]
  },
  {
   "cell_type": "raw",
   "id": "609b711b-a3c5-461c-8b7b-b1f017958d55",
   "metadata": {},
   "source": [
    "import numpy as np\n",
    "\n",
    "heatmap, xedges, yedges = np.histogram2d(x, y, bins=200)\n",
    "extent = [xedges[0], xedges[-1], yedges[0], yedges[-1]]\n",
    "\n",
    "plt.clf()\n",
    "plt.imshow(1-heatmap.T, extent=extent, origin='upper')\n",
    "plt.show()"
   ]
  },
  {
   "cell_type": "raw",
   "id": "2ec540fd-691b-47d4-a5c3-707cc42a396d",
   "metadata": {},
   "source": [
    "from matplotlib import mlab, cm\n",
    "from matplotlib import pyplot as plt\n",
    "n = 1e5\n",
    "x = y = np.linspace(-5, 5, 100)\n",
    "X, Y = np.meshgrid(x, y)\n",
    "Z1 = mlab.bivariate_normal(X, Y, 2, 2, 0, 0)\n",
    "Z2 = mlab.bivariate_normal(X, Y, 4, 1, 1, 1)\n",
    "ZD = Z2 - Z1\n",
    "x = X.ravel()\n",
    "y = Y.ravel()\n",
    "z = ZD.ravel()\n",
    "gridsize=30\n",
    "PLT.subplot(111)\n",
    "\n",
    "# if 'bins=None', then color of each hexagon corresponds directly to its count\n",
    "# 'C' is optional--it maps values to x-y coordinates; if 'C' is None (default) then \n",
    "# the result is a pure 2D histogram \n",
    "\n",
    "plt.hexbin(x, y, C=z, gridsize=gridsize, cmap=cm.jet, bins=None)\n",
    "plt.axis([x.min(), x.max(), y.min(), y.max()])\n",
    "\n",
    "cb = plt.colorbar()\n",
    "cb.set_label('mean value')\n",
    "plt.show()   "
   ]
  },
  {
   "cell_type": "code",
   "execution_count": 5,
   "id": "abc9960d-2e36-400a-b6ae-3245f1055810",
   "metadata": {},
   "outputs": [],
   "source": [
    "x=[0, *x]\n",
    "y=[0, *y]\n",
    "x=[1920,*x]\n",
    "y=[1080,*y]"
   ]
  },
  {
   "cell_type": "code",
   "execution_count": 9,
   "id": "683527c8-f7f0-4848-a1ec-baa859be7cf9",
   "metadata": {},
   "outputs": [
    {
     "name": "stderr",
     "output_type": "stream",
     "text": [
      "C:\\Users\\malte\\anaconda3\\envs\\evaluate_gui_study\\lib\\site-packages\\ipykernel_launcher.py:29: UserWarning: Assuming a fixed window position.\n"
     ]
    },
    {
     "data": {
      "image/png": "[encoded data removed]",
      "text/plain": [
       "<Figure size 432x288 with 1 Axes>"
      ]
     },
     "metadata": {
      "needs_background": "light"
     },
     "output_type": "display_data"
    }
   ],
   "source": [
    "import numpy as np\n",
    "import matplotlib.pyplot as plt\n",
    "import matplotlib.cm as cm\n",
    "from scipy.ndimage.filters import gaussian_filter\n",
    "import warnings\n",
    "\n",
    "\n",
    "def myplot(x, y, s, bins=1000):\n",
    "    heatmap, xedges, yedges = np.histogram2d(x, y, bins=bins)\n",
    "    heatmap = gaussian_filter(heatmap, sigma=s)\n",
    "\n",
    "    extent = [xedges[0], xedges[-1], yedges[0], yedges[-1]]\n",
    "    return heatmap.T, extent\n",
    "\n",
    "\n",
    "fig = plt.figure()\n",
    "\n",
    "# Generate some test data\n",
    "#x = np.random.randn(1000)\n",
    "#y = np.random.randn(1000)\n",
    "\n",
    "sigmas = [10]\n",
    "\n",
    "#for ax, sigma in zip(axs.flatten(), sigmas):\n",
    "img, extent = myplot(x, y, sigmas[0])\n",
    "fig.gca().imshow(img, extent=extent, cmap=cm.jet)\n",
    "fig.gca().set_title(\"Smoothing with  $\\sigma$ = %d\" % sigmas[0])\n",
    "\n",
    "warnings.warn(\"Assuming a fixed window position.\")\n",
    "min_x = window_positions.iloc[0]['pos_x']\n",
    "min_y = window_positions.iloc[0]['pos_y']\n",
    "width = window_positions.iloc[0]['width']\n",
    "height = window_positions.iloc[0]['height']\n",
    "#plt.xlim(min_x, min_x+width)\n",
    "#plt.ylim(min_y, min_y+height)\n",
    "plt.xlim(0, 1920)\n",
    "plt.ylim(0, 1080)\n",
    "plt.show()"
   ]
  },
  {
   "cell_type": "code",
   "execution_count": null,
   "id": "6992e7a9-bdaf-430b-8419-f2a18ee21bc6",
   "metadata": {},
   "outputs": [],
   "source": []
  }
 ],
 "metadata": {
  "kernelspec": {
   "display_name": "eval gui",
   "language": "python",
   "name": "evaluate_gui_study"
  },
  "language_info": {
   "codemirror_mode": {
    "name": "ipython",
    "version": 3
   },
   "file_extension": ".py",
   "mimetype": "text/x-python",
   "name": "python",
   "nbconvert_exporter": "python",
   "pygments_lexer": "ipython3",
   "version": "3.7.11"
  }
 },
 "nbformat": 4,
 "nbformat_minor": 5
}
