{
 "cells": [
  {
   "cell_type": "code",
   "execution_count": 11,
   "id": "initial_id",
   "metadata": {
    "collapsed": true,
    "ExecuteTime": {
     "end_time": "2024-04-08T17:42:19.228374Z",
     "start_time": "2024-04-08T17:42:19.202434500Z"
    }
   },
   "outputs": [],
   "source": [
    "# D:\\logbot-data\\OstukaPaperData\\data\\labelled\\omizunagidori\\OM1803\n",
    "# 一天的数据被切割成segment单独存储，读取数据非常慢，所以将数据combine\n",
    "import numpy as np\n",
    "import os\n",
    "import glob\n",
    "import pickle"
   ]
  },
  {
   "cell_type": "code",
   "outputs": [],
   "source": [
    "root_path = r\"D:\\logbot-data\\OstukaPaperData\\data\\labelled\\omizunagidori\"\n",
    "date_names = os.listdir(root_path)"
   ],
   "metadata": {
    "collapsed": false,
    "ExecuteTime": {
     "end_time": "2024-04-08T17:12:34.041061900Z",
     "start_time": "2024-04-08T17:12:34.026126Z"
    }
   },
   "id": "5b7098759fc82b7e",
   "execution_count": 4
  },
  {
   "cell_type": "code",
   "outputs": [],
   "source": [
    "raw_data_path_list = []\n",
    "for n in date_names:\n",
    "    path_target = os.path.join(root_path, n, \"**.npz\")\n",
    "    raw_data_path_list = sorted(glob.glob(path_target))\n",
    "    samples, targets = [], []\n",
    "    for i in raw_data_path_list:\n",
    "        npz = np.load(i, allow_pickle=True)\n",
    "        sample = npz[\"X\"]\n",
    "        target = npz[\"label_id\"]\n",
    "        samples.append(sample)\n",
    "        targets.append(target)\n",
    "    with open(os.path.join(root_path, n, 'saved_sample_target.pkl'), 'wb') as f:\n",
    "        pickle.dump({'sample':samples, 'target':targets}, f)"
   ],
   "metadata": {
    "collapsed": false,
    "ExecuteTime": {
     "end_time": "2024-04-08T17:49:14.571719800Z",
     "start_time": "2024-04-08T17:42:20.678045Z"
    }
   },
   "id": "b3ea700e4b8d5f88",
   "execution_count": 12
  },
  {
   "cell_type": "code",
   "outputs": [
    {
     "data": {
      "text/plain": "(1, 50, 3)"
     },
     "execution_count": 14,
     "metadata": {},
     "output_type": "execute_result"
    }
   ],
   "source": [
    "sample.shape"
   ],
   "metadata": {
    "collapsed": false,
    "ExecuteTime": {
     "end_time": "2024-04-08T17:51:01.579869600Z",
     "start_time": "2024-04-08T17:51:01.571905Z"
    }
   },
   "id": "83e8d699fecf4ff4",
   "execution_count": 14
  },
  {
   "cell_type": "code",
   "outputs": [
    {
     "data": {
      "text/plain": "(1, 50)"
     },
     "execution_count": 15,
     "metadata": {},
     "output_type": "execute_result"
    }
   ],
   "source": [
    "target.shape"
   ],
   "metadata": {
    "collapsed": false,
    "ExecuteTime": {
     "end_time": "2024-04-08T17:51:09.732088700Z",
     "start_time": "2024-04-08T17:51:09.720175400Z"
    }
   },
   "id": "e004e78763578f00",
   "execution_count": 15
  },
  {
   "cell_type": "code",
   "outputs": [],
   "source": [],
   "metadata": {
    "collapsed": false
   },
   "id": "a1d5a98d2a852be4"
  }
 ],
 "metadata": {
  "kernelspec": {
   "display_name": "Python 3",
   "language": "python",
   "name": "python3"
  },
  "language_info": {
   "codemirror_mode": {
    "name": "ipython",
    "version": 2
   },
   "file_extension": ".py",
   "mimetype": "text/x-python",
   "name": "python",
   "nbconvert_exporter": "python",
   "pygments_lexer": "ipython2",
   "version": "2.7.6"
  }
 },
 "nbformat": 4,
 "nbformat_minor": 5
}
